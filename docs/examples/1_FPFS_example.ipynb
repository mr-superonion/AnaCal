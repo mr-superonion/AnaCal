{
 "cells": [
  {
   "cell_type": "code",
   "execution_count": 1,
   "id": "35fb6817-48e7-4144-9f51-253ea152bceb",
   "metadata": {
    "tags": []
   },
   "outputs": [],
   "source": [
    "import galsim\n",
    "import anacal\n",
    "import numpy as np"
   ]
  },
  {
   "cell_type": "code",
   "execution_count": 2,
   "id": "31f4d80c-3c12-416f-bd00-bed35987f95f",
   "metadata": {
    "tags": []
   },
   "outputs": [
    {
     "name": "stderr",
     "output_type": "stream",
     "text": [
      "2023/09/09 16:56:04 ---  Processing for g1-2222, and shears for four redshift bins are [0.03 0.03 0.03 0.03].\n",
      "2023/09/09 16:56:04 ---  Making Basic Simulation. ID: 212\n"
     ]
    },
    {
     "name": "stdout",
     "output_type": "stream",
     "text": [
      "zero magnitude is: 27.00\n",
      "pixel scale is 0.17 arcsec\n"
     ]
    },
    {
     "data": {
      "text/plain": [
       "<matplotlib.image.AxesImage at 0x1554be623a90>"
      ]
     },
     "execution_count": 2,
     "metadata": {},
     "output_type": "execute_result"
    },
    {
     "data": {
      "image/png": "[encoded data removed]",
      "text/plain": [
       "<Figure size 640x480 with 1 Axes>"
      ]
     },
     "metadata": {},
     "output_type": "display_data"
    }
   ],
   "source": [
    "scale = 0.168\n",
    "nx, ny = 64, 64\n",
    "# Define PSF object with Galsim\n",
    "psf_obj = galsim.Moffat(\n",
    "    beta=3.5, fwhm=0.6, trunc=0.6 * 4.0\n",
    ").shear(e1=0.02, e2=-0.02)\n",
    "\n",
    "seed = 212\n",
    "gname = \"g1-2222\"\n",
    "shear_value = 0.03\n",
    "data_obj = anacal.simulation.make_isolate_sim(\n",
    "    shear_value=shear_value, # amplitude of shear distortion\n",
    "    gal_type=\"basic\",        # galaxy simulation type\n",
    "    psf_obj=psf_obj,         # Galsim PSF object\n",
    "    gname=gname,             # redshift dependence of shear\n",
    "    seed=seed,               # random seed\n",
    "    ny=ny * 1,               # height of the simulation\n",
    "    nx=nx * 4,               # width of the simulation\n",
    "    scale=scale,             # pixel scale\n",
    "    do_shift=False,          # whether include subpixel shifting of galaxy centroid\n",
    "    nrot=4,                  # number of rotation by pi/nrot (ring test)\n",
    ")\n",
    "print(\"zero magnitude is: %.2f\" %data_obj.mag_zero)\n",
    "print(\"pixel scale is %.2f arcsec\" %data_obj.scale)\n",
    "# plot the image\n",
    "anacal.plotter.make_plot_image(data_obj.image)"
   ]
  },
  {
   "cell_type": "code",
   "execution_count": 3,
   "id": "44530deb-a1f8-4a04-9bd5-6dd5ba5b4713",
   "metadata": {
    "tags": []
   },
   "outputs": [
    {
     "name": "stderr",
     "output_type": "stream",
     "text": [
      "2023/09/09 16:56:05 ---  Unable to initialize backend 'cuda': module 'jaxlib.xla_extension' has no attribute 'GpuAllocatorConfig'\n",
      "2023/09/09 16:56:05 ---  Unable to initialize backend 'rocm': module 'jaxlib.xla_extension' has no attribute 'GpuAllocatorConfig'\n",
      "2023/09/09 16:56:05 ---  Unable to initialize backend 'tpu': INVALID_ARGUMENT: TpuPlatform is not available.\n",
      "2023/09/09 16:56:05 ---  Unable to initialize backend 'plugin': xla_extension has no attributes named get_plugin_device_client. Compile TensorFlow with //tensorflow/compiler/xla/python:enable_plugin_device set to true (defaults to false) to enable this.\n",
      "2023/09/09 16:56:05 ---  No GPU/TPU found, falling back to CPU. (Set TF_CPP_MIN_LOG_LEVEL=0 and rerun for more info.)\n",
      "2023/09/09 16:56:06 ---  Order of the shear estimator: nnord=4\n",
      "2023/09/09 16:56:06 ---  Shapelet kernel in configuration space: sigma= 0.5000 arcsec\n",
      "2023/09/09 16:56:06 ---  Detection kernel in configuration space: sigma= 0.5000 arcsec\n",
      "2023/09/09 16:56:07 ---  Order of the shear estimator: nnord=4\n",
      "2023/09/09 16:56:07 ---  Shapelet kernel in configuration space: sigma= 0.5000 arcsec\n",
      "2023/09/09 16:56:07 ---  Detection kernel in configuration space: sigma= 0.5000 arcsec\n"
     ]
    },
    {
     "name": "stdout",
     "output_type": "stream",
     "text": [
      "input g1 is 0.03000\n",
      "measured g1 is 0.02998\n",
      "input g2 is 0.\n",
      "measured g2 is 0.00000\n"
     ]
    }
   ],
   "source": [
    "# define the method used for shear estimation\n",
    "method_obj = anacal.dtype.FPFSMethod(\n",
    "    sigma_as=0.5,        # smoothing scale for shape estimation\n",
    "    sigma_det=0.5,       # smoothing scale for detection\n",
    "    rcut=32,             # radius of the stamp \n",
    "    nnord=4,             # order of shapelets\n",
    "    noise_rev=False,     # whether do noise bias correction\n",
    ")\n",
    "cat_obj = anacal.process.process_image(data_obj, method_obj)\n",
    "# test the wrapped impt.FPFS function\n",
    "\n",
    "outcome = anacal.process.measure_shear(cat_obj, method_obj)\n",
    "shear1 = np.sum(outcome[:, 0]) / np.sum(outcome[:, 1])\n",
    "print(\"input g1 is %.5f\" % shear_value)\n",
    "print(\"measured g1 is %.5f\" % shear1)\n",
    "\n",
    "shear2 = np.sum(outcome[:, 2]) / np.sum(outcome[:, 3])\n",
    "print(\"input g2 is 0.\")\n",
    "print(\"measured g2 is %.5f\" % shear2)"
   ]
  }
 ],
 "metadata": {
  "kernelspec": {
   "display_name": "Python 3 (ipykernel)",
   "language": "python",
   "name": "python3"
  },
  "language_info": {
   "codemirror_mode": {
    "name": "ipython",
    "version": 3
   },
   "file_extension": ".py",
   "mimetype": "text/x-python",
   "name": "python",
   "nbconvert_exporter": "python",
   "pygments_lexer": "ipython3",
   "version": "3.10.10"
  }
 },
 "nbformat": 4,
 "nbformat_minor": 5
}
